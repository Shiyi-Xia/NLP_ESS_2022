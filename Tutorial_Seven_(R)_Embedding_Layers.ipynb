{
  "nbformat": 4,
  "nbformat_minor": 0,
  "metadata": {
    "colab": {
      "name": "Tutorial Seven (R): Embedding Layers",
      "provenance": [],
      "include_colab_link": true
    },
    "kernelspec": {
      "name": "ir",
      "display_name": "R"
    },
    "language_info": {
      "name": "R"
    },
    "accelerator": "GPU"
  },
  "cells": [
    {
      "cell_type": "markdown",
      "metadata": {
        "id": "view-in-github",
        "colab_type": "text"
      },
      "source": [
        "<a href=\"https://colab.research.google.com/github/Shiyi-Xia/NLP_ESS_2022/blob/main/Tutorial_Seven_(R)_Embedding_Layers.ipynb\" target=\"_parent\"><img src=\"https://colab.research.google.com/assets/colab-badge.svg\" alt=\"Open In Colab\"/></a>"
      ]
    },
    {
      "cell_type": "markdown",
      "metadata": {
        "id": "5I83O24uCtuh"
      },
      "source": [
        "# Classification using Embeddings\n",
        "\n",
        "*This tutorial was originally created by Burt Monroe for his prior work with the Essex Summer School. I've updated and modified it.*\n",
        "\n",
        "In this notebook, we'll update our classifier to include an embedding layer where we estimate the embeddings as part of the layer. After completing this notebook, you should be familar with:\n",
        "\n",
        "\n",
        "1. Estimate a deep learning model with an embedding layer.\n",
        "2. Model raw text through TextVectorization\n",
        "3. Visualize Embeddings\n",
        "\n",
        "#### Setup Instructions:\n",
        "This notebook was designed to run in a clean R runtime within Google Colab. Before running any of the code below, go up to the menu at the top of the window and click \"runtime,\" then, from the dropdown, click \"Disconnect and Delete Runtime\". Then, reconnect. That should get everything set up to run smoothly. \n"
      ]
    },
    {
      "cell_type": "markdown",
      "metadata": {
        "id": "w2luVfeeC5sP"
      },
      "source": [
        "## Setup"
      ]
    },
    {
      "cell_type": "code",
      "metadata": {
        "colab": {
          "base_uri": "https://localhost:8080/",
          "height": 91
        },
        "id": "B20QmKpR8CSm",
        "outputId": "fffa6a84-da12-4a3f-ee14-536881197821"
      },
      "source": [
        "install.packages(\"keras\") # install R library for keras; this installs dependencies we'll need, including tensorflow\n",
        "\n",
        "library(tensorflow) # load R library for tensorflow\n",
        "library(keras) # load R library for keras\n",
        "\n",
        "tf$constant(\"Hello Tensorflow\") # check that tensorflow is working"
      ],
      "execution_count": null,
      "outputs": [
        {
          "output_type": "stream",
          "name": "stderr",
          "text": [
            "Installing package into ‘/usr/local/lib/R/site-library’\n",
            "(as ‘lib’ is unspecified)\n",
            "\n"
          ]
        },
        {
          "output_type": "display_data",
          "data": {
            "text/plain": [
              "tf.Tensor(b'Hello Tensorflow', shape=(), dtype=string)"
            ]
          },
          "metadata": {}
        }
      ]
    },
    {
      "cell_type": "markdown",
      "source": [
        "We now need to add a new package, `tfhub`. This is the Tensorflow Hub, which is a repository of reusable machine learning models. `tfhub` is an R package that provides access to all of the models retained on Tensorflow Hub. "
      ],
      "metadata": {
        "id": "bItQZMN_4qp5"
      }
    },
    {
      "cell_type": "code",
      "source": [
        "install.packages(\"tfdatasets\")\n",
        "library(tfdatasets)"
      ],
      "metadata": {
        "colab": {
          "base_uri": "https://localhost:8080/"
        },
        "id": "A88Xn6L04qIO",
        "outputId": "da135ade-dd2e-42fb-b808-91f25670c804"
      },
      "execution_count": null,
      "outputs": [
        {
          "output_type": "stream",
          "name": "stderr",
          "text": [
            "Installing package into ‘/usr/local/lib/R/site-library’\n",
            "(as ‘lib’ is unspecified)\n",
            "\n"
          ]
        }
      ]
    },
    {
      "cell_type": "markdown",
      "metadata": {
        "id": "pWslPUBFeaYd"
      },
      "source": [
        "## Load the IMDB data\n"
      ]
    },
    {
      "cell_type": "code",
      "source": [
        "url <- \"https://ai.stanford.edu/~amaas/data/sentiment/aclImdb_v1.tar.gz\"\n",
        "\n",
        "dataset <- get_file(\n",
        "  \"aclImdb_v1\",\n",
        "  url,\n",
        "  untar = TRUE,\n",
        "  cache_dir = '.',\n",
        "  cache_subdir = ''\n",
        ")"
      ],
      "metadata": {
        "id": "RWUpGSM78tQX"
      },
      "execution_count": null,
      "outputs": []
    },
    {
      "cell_type": "code",
      "source": [
        "dataset_dir <- file.path(\"aclImdb\")\n",
        "list.files(dataset_dir)\n"
      ],
      "metadata": {
        "colab": {
          "base_uri": "https://localhost:8080/",
          "height": 34
        },
        "id": "C3pLHRpw8wNa",
        "outputId": "0fc8d9a8-e88a-4fee-ff25-dccbe86608ea"
      },
      "execution_count": null,
      "outputs": [
        {
          "output_type": "display_data",
          "data": {
            "text/html": [
              "<style>\n",
              ".list-inline {list-style: none; margin:0; padding: 0}\n",
              ".list-inline>li {display: inline-block}\n",
              ".list-inline>li:not(:last-child)::after {content: \"\\00b7\"; padding: 0 .5ex}\n",
              "</style>\n",
              "<ol class=list-inline><li>'imdb.vocab'</li><li>'imdbEr.txt'</li><li>'README'</li><li>'test'</li><li>'train'</li></ol>\n"
            ],
            "text/markdown": "1. 'imdb.vocab'\n2. 'imdbEr.txt'\n3. 'README'\n4. 'test'\n5. 'train'\n\n\n",
            "text/latex": "\\begin{enumerate*}\n\\item 'imdb.vocab'\n\\item 'imdbEr.txt'\n\\item 'README'\n\\item 'test'\n\\item 'train'\n\\end{enumerate*}\n",
            "text/plain": [
              "[1] \"imdb.vocab\" \"imdbEr.txt\" \"README\"     \"test\"       \"train\"     "
            ]
          },
          "metadata": {}
        }
      ]
    },
    {
      "cell_type": "code",
      "source": [
        "train_dir <- file.path(dataset_dir, 'train')\n",
        "list.files(train_dir)"
      ],
      "metadata": {
        "colab": {
          "base_uri": "https://localhost:8080/",
          "height": 34
        },
        "id": "clJkbYVr81tY",
        "outputId": "4e4f45dc-b54e-4b5d-b0c5-4a61be47bd7e"
      },
      "execution_count": null,
      "outputs": [
        {
          "output_type": "display_data",
          "data": {
            "text/html": [
              "<style>\n",
              ".list-inline {list-style: none; margin:0; padding: 0}\n",
              ".list-inline>li {display: inline-block}\n",
              ".list-inline>li:not(:last-child)::after {content: \"\\00b7\"; padding: 0 .5ex}\n",
              "</style>\n",
              "<ol class=list-inline><li>'labeledBow.feat'</li><li>'neg'</li><li>'pos'</li><li>'unsup'</li><li>'unsupBow.feat'</li><li>'urls_neg.txt'</li><li>'urls_pos.txt'</li><li>'urls_unsup.txt'</li></ol>\n"
            ],
            "text/markdown": "1. 'labeledBow.feat'\n2. 'neg'\n3. 'pos'\n4. 'unsup'\n5. 'unsupBow.feat'\n6. 'urls_neg.txt'\n7. 'urls_pos.txt'\n8. 'urls_unsup.txt'\n\n\n",
            "text/latex": "\\begin{enumerate*}\n\\item 'labeledBow.feat'\n\\item 'neg'\n\\item 'pos'\n\\item 'unsup'\n\\item 'unsupBow.feat'\n\\item 'urls\\_neg.txt'\n\\item 'urls\\_pos.txt'\n\\item 'urls\\_unsup.txt'\n\\end{enumerate*}\n",
            "text/plain": [
              "[1] \"labeledBow.feat\" \"neg\"             \"pos\"             \"unsup\"          \n",
              "[5] \"unsupBow.feat\"   \"urls_neg.txt\"    \"urls_pos.txt\"    \"urls_unsup.txt\" "
            ]
          },
          "metadata": {}
        }
      ]
    },
    {
      "cell_type": "code",
      "source": [
        "sample_file <- file.path(train_dir, 'pos/1181_9.txt')\n",
        "readr::read_file(sample_file)"
      ],
      "metadata": {
        "colab": {
          "base_uri": "https://localhost:8080/",
          "height": 104
        },
        "id": "bqk97bMe84DR",
        "outputId": "253b5f2d-dba3-444f-959b-300e17a03780"
      },
      "execution_count": null,
      "outputs": [
        {
          "output_type": "display_data",
          "data": {
            "text/html": [
              "'Rachel Griffiths writes and directs this award winning short film. A heartwarming story about coping with grief and cherishing the memory of those we\\'ve loved and lost. Although, only 15 minutes long, Griffiths manages to capture so much emotion and truth onto film in the short space of time. Bud Tingwell gives a touching performance as Will, a widower struggling to cope with his wife\\'s death. Will is confronted by the harsh reality of loneliness and helplessness as he proceeds to take care of Ruth\\'s pet cow, Tulip. The film displays the grief and responsibility one feels for those they have loved and lost. Good cinematography, great direction, and superbly acted. It will bring tears to all those who have lost a loved one, and survived.'"
            ],
            "text/markdown": "'Rachel Griffiths writes and directs this award winning short film. A heartwarming story about coping with grief and cherishing the memory of those we\\'ve loved and lost. Although, only 15 minutes long, Griffiths manages to capture so much emotion and truth onto film in the short space of time. Bud Tingwell gives a touching performance as Will, a widower struggling to cope with his wife\\'s death. Will is confronted by the harsh reality of loneliness and helplessness as he proceeds to take care of Ruth\\'s pet cow, Tulip. The film displays the grief and responsibility one feels for those they have loved and lost. Good cinematography, great direction, and superbly acted. It will bring tears to all those who have lost a loved one, and survived.'",
            "text/latex": "'Rachel Griffiths writes and directs this award winning short film. A heartwarming story about coping with grief and cherishing the memory of those we\\textbackslash{}'ve loved and lost. Although, only 15 minutes long, Griffiths manages to capture so much emotion and truth onto film in the short space of time. Bud Tingwell gives a touching performance as Will, a widower struggling to cope with his wife\\textbackslash{}'s death. Will is confronted by the harsh reality of loneliness and helplessness as he proceeds to take care of Ruth\\textbackslash{}'s pet cow, Tulip. The film displays the grief and responsibility one feels for those they have loved and lost. Good cinematography, great direction, and superbly acted. It will bring tears to all those who have lost a loved one, and survived.'",
            "text/plain": [
              "[1] \"Rachel Griffiths writes and directs this award winning short film. A heartwarming story about coping with grief and cherishing the memory of those we've loved and lost. Although, only 15 minutes long, Griffiths manages to capture so much emotion and truth onto film in the short space of time. Bud Tingwell gives a touching performance as Will, a widower struggling to cope with his wife's death. Will is confronted by the harsh reality of loneliness and helplessness as he proceeds to take care of Ruth's pet cow, Tulip. The film displays the grief and responsibility one feels for those they have loved and lost. Good cinematography, great direction, and superbly acted. It will bring tears to all those who have lost a loved one, and survived.\""
            ]
          },
          "metadata": {}
        }
      ]
    },
    {
      "cell_type": "code",
      "source": [
        "remove_dir <- file.path(train_dir, 'unsup')\n",
        "unlink(remove_dir, recursive = TRUE)"
      ],
      "metadata": {
        "id": "GvY-o2U_9Ci7"
      },
      "execution_count": null,
      "outputs": []
    },
    {
      "cell_type": "code",
      "source": [
        "batch_size <- 32\n",
        "seed <- 42\n",
        "\n",
        "raw_train_ds <- text_dataset_from_directory(\n",
        "  'aclImdb/train',\n",
        "  batch_size = batch_size,\n",
        "  validation_split = 0.2,\n",
        "  subset = 'training',\n",
        "  seed = seed\n",
        ")"
      ],
      "metadata": {
        "id": "IazXiv-59FOP"
      },
      "execution_count": null,
      "outputs": []
    },
    {
      "cell_type": "code",
      "source": [
        "raw_val_ds <- text_dataset_from_directory(\n",
        "  'aclImdb/train',\n",
        "  batch_size = batch_size,\n",
        "  validation_split = 0.2,\n",
        "  subset = 'validation',\n",
        "  seed = seed\n",
        ")\n",
        "\n",
        "raw_test_ds <- text_dataset_from_directory(\n",
        "  'aclImdb/test',\n",
        "  batch_size = batch_size\n",
        ")"
      ],
      "metadata": {
        "id": "aV3lwnVh9OMp"
      },
      "execution_count": null,
      "outputs": []
    },
    {
      "cell_type": "markdown",
      "metadata": {
        "id": "yPoxPHvMfuh3"
      },
      "source": [
        "## The TextVectorization layer - an example\n",
        "\n",
        "To illustrate with the TextVectorization layer in Keras does, consider a simple example."
      ]
    },
    {
      "cell_type": "code",
      "metadata": {
        "colab": {
          "base_uri": "https://localhost:8080/",
          "height": 53
        },
        "id": "vq14E1SlgFpj",
        "outputId": "1031f5da-d0bc-40d5-a2c9-e0f79696fd7c"
      },
      "source": [
        "input_data <- c(\"Would you like them in a house?\", \n",
        "                \"Would you like them with a mouse?\", \n",
        "                \"I do not like them in a house.\",\n",
        "                \"I do not like them with a mouse.\",\n",
        "                \"I do not like them here or there.\",\n",
        "                \"I do not like them anywhere.\")\n",
        "text_vectorization <- layer_text_vectorization()\n",
        "\n",
        "# apply\n",
        "text_vectorization %>% adapt(input_data)\n",
        "\n",
        "# compare the first document\n",
        "input_data[1]\n",
        "text_vectorization(matrix(input_data[1], ncol=1))\n"
      ],
      "execution_count": null,
      "outputs": [
        {
          "output_type": "display_data",
          "data": {
            "text/html": [
              "'Would you like them in a house?'"
            ],
            "text/markdown": "'Would you like them in a house?'",
            "text/latex": "'Would you like them in a house?'",
            "text/plain": [
              "[1] \"Would you like them in a house?\""
            ]
          },
          "metadata": {}
        },
        {
          "output_type": "display_data",
          "data": {
            "text/plain": [
              "tf.Tensor([[ 9  8  3  2 12  7 13]], shape=(1, 7), dtype=int64)"
            ]
          },
          "metadata": {}
        }
      ]
    },
    {
      "cell_type": "code",
      "source": [
        "# now look at all the documents\n",
        "input_data\n",
        "text_vectorization(matrix(input_data, ncol=1))"
      ],
      "metadata": {
        "colab": {
          "base_uri": "https://localhost:8080/",
          "height": 198
        },
        "id": "JTgZVaow5LxO",
        "outputId": "7994b280-48c8-41ad-d962-35dfaf9f55e4"
      },
      "execution_count": null,
      "outputs": [
        {
          "output_type": "display_data",
          "data": {
            "text/html": [
              "<style>\n",
              ".list-inline {list-style: none; margin:0; padding: 0}\n",
              ".list-inline>li {display: inline-block}\n",
              ".list-inline>li:not(:last-child)::after {content: \"\\00b7\"; padding: 0 .5ex}\n",
              "</style>\n",
              "<ol class=list-inline><li>'Would you like them in a house?'</li><li>'Would you like them with a mouse?'</li><li>'I do not like them in a house.'</li><li>'I do not like them with a mouse.'</li><li>'I do not like them here or there.'</li><li>'I do not like them anywhere.'</li></ol>\n"
            ],
            "text/markdown": "1. 'Would you like them in a house?'\n2. 'Would you like them with a mouse?'\n3. 'I do not like them in a house.'\n4. 'I do not like them with a mouse.'\n5. 'I do not like them here or there.'\n6. 'I do not like them anywhere.'\n\n\n",
            "text/latex": "\\begin{enumerate*}\n\\item 'Would you like them in a house?'\n\\item 'Would you like them with a mouse?'\n\\item 'I do not like them in a house.'\n\\item 'I do not like them with a mouse.'\n\\item 'I do not like them here or there.'\n\\item 'I do not like them anywhere.'\n\\end{enumerate*}\n",
            "text/plain": [
              "[1] \"Would you like them in a house?\"   \"Would you like them with a mouse?\"\n",
              "[3] \"I do not like them in a house.\"    \"I do not like them with a mouse.\" \n",
              "[5] \"I do not like them here or there.\" \"I do not like them anywhere.\"     "
            ]
          },
          "metadata": {}
        },
        {
          "output_type": "display_data",
          "data": {
            "text/plain": [
              "tf.Tensor(\n",
              "[[ 9  8  3  2 12  7 13  0]\n",
              " [ 9  8  3  2 10  7 11  0]\n",
              " [ 5  6  4  3  2 12  7 13]\n",
              " [ 5  6  4  3  2 10  7 11]\n",
              " [ 5  6  4  3  2 16 15 14]\n",
              " [ 5  6  4  3  2 17  0  0]], shape=(6, 8), dtype=int64)"
            ]
          },
          "metadata": {}
        }
      ]
    },
    {
      "cell_type": "markdown",
      "metadata": {
        "id": "sS4hkgxsiQks"
      },
      "source": [
        "The TextVectorization layer tokenizes the input text and replaces each with an integer indexing its location in the vocabulary. The vocabulary is built by `adapt`. The output is our matrix/array/tensor of integers. Note that they have to be the same length, so the shorter ones are padded with 0s. We must do some combination of this, cutting off texts at a maximum length, or similar to have them be the same length here.\n",
        "\n",
        "We've mostly sidestepped the notion of \"tensors\" up to now, but there it is, right in front of you, so I need to address it. That tensor looks just like a matrix, because it is. A matrix is a special example, in this case a tensor of shape 6 x 8. A tensor can take that in three or more dimensions. Our example above has one vector (row) for every document/sentence in the data. Imagine each example was something two dimensional, like an image -- say, an 10 x 8 grid of on and off pixels. Now each of the 6 \"rows\" of the dataset is a 10x8 \"matrix\", and stacked together they form a 6x10x8 tensor. As might be clear from the name, tensors are the inputs and outputs of  model layers in Tensorflow."
      ]
    },
    {
      "cell_type": "markdown",
      "metadata": {
        "id": "RM_-GXWahjsV"
      },
      "source": [
        "## Apply TextVectorization\n",
        "\n",
        "You can send a different tokenizer to the TextVectorization layer -- and the reviews do have some detritus like html tags that probably should be removed -- but we'll just use the default.\n",
        "\n",
        "Now let's set up our vectorize_layer for real. We'll set our maximum vocabulary and our maximum review length."
      ]
    },
    {
      "cell_type": "code",
      "source": [
        "max_features <- 10000\n",
        "sequence_length <- 250\n",
        "\n",
        "vectorize_layer <- layer_text_vectorization(\n",
        "  max_tokens = max_features,\n",
        "  output_mode = \"int\",\n",
        "  output_sequence_length = sequence_length\n",
        ")"
      ],
      "metadata": {
        "id": "-Rn24ft75htN"
      },
      "execution_count": null,
      "outputs": []
    },
    {
      "cell_type": "markdown",
      "metadata": {
        "id": "S7pKBqBjncV_"
      },
      "source": [
        "We'll call the adapt function to build the vocabulary from the text of the reviews.\n",
        "\n"
      ]
    },
    {
      "cell_type": "code",
      "source": [
        "train_text <- raw_train_ds %>%\n",
        "  dataset_map(function(text, label) text)\n",
        "  \n",
        "vectorize_layer %>% adapt(train_text)"
      ],
      "metadata": {
        "id": "3VQGqJsG6NzV"
      },
      "execution_count": null,
      "outputs": []
    },
    {
      "cell_type": "code",
      "source": [
        "vectorize_text <- function(text, label) {\n",
        "  text <- tf$expand_dims(text, -1L)\n",
        "  list(vectorize_layer(text), label)\n",
        "}"
      ],
      "metadata": {
        "id": "7ZDs2wb0-bXV"
      },
      "execution_count": null,
      "outputs": []
    },
    {
      "cell_type": "code",
      "source": [
        "train_ds <- raw_train_ds %>% dataset_map(vectorize_text)\n",
        "val_ds <- raw_val_ds %>% dataset_map(vectorize_text)\n",
        "test_ds <- raw_test_ds %>% dataset_map(vectorize_text)"
      ],
      "metadata": {
        "id": "yvsPRsua9iPf"
      },
      "execution_count": null,
      "outputs": []
    },
    {
      "cell_type": "markdown",
      "source": [
        "## Performance Considerations"
      ],
      "metadata": {
        "id": "DMgXDVAa-tAB"
      }
    },
    {
      "cell_type": "code",
      "source": [
        "AUTOTUNE <- tf$data$AUTOTUNE\n",
        "\n",
        "train_ds <- train_ds %>%\n",
        "  dataset_cache() %>%\n",
        "  dataset_prefetch(buffer_size = AUTOTUNE)\n",
        "val_ds <- val_ds %>%\n",
        "  dataset_cache() %>%\n",
        "  dataset_prefetch(buffer_size = AUTOTUNE)\n",
        "test_ds <- test_ds %>%\n",
        "  dataset_cache() %>%\n",
        "  dataset_prefetch(buffer_size = AUTOTUNE)"
      ],
      "metadata": {
        "id": "8vC3Ni8a-r3d"
      },
      "execution_count": null,
      "outputs": []
    },
    {
      "cell_type": "markdown",
      "metadata": {
        "id": "QXH3FCi-0fuO"
      },
      "source": [
        "# Create the Model\n",
        "\n",
        "Recall in our baseline model, we had 5000 inputs -- for each document, 1 for every word appearing and 0 for every word not -- that fed into a Dense layer of 16 nodes (for 5000 x 16 = 80000  weights).\n",
        "\n",
        "Now we have for document an input of 100 integers (the maximum length, padded if shorter with 0s). Each integer represents a word. The embedding layer maps each integer into its 16-dimensional embedding vector (16 numbers), so we now have 100 lookups from the 5000x16 embeddings as outputs. The GlobalAveragePooling1D layer averages the 100 embeddings yielding 16 outputs.\n",
        "\n",
        "In the first case, the document has words squashed together (multihot) and then compressed into 16 numbers, the activations of the first Dense layer. In the second case, the words are compressed into 16 numbers by the embedding, and then squashed together in the document by the pooling layer. Both take 80000 parameters to do."
      ]
    },
    {
      "cell_type": "code",
      "source": [
        "embedding_dim <- 16\n"
      ],
      "metadata": {
        "id": "Si_JRbl34RVH"
      },
      "execution_count": null,
      "outputs": []
    },
    {
      "cell_type": "code",
      "metadata": {
        "colab": {
          "base_uri": "https://localhost:8080/"
        },
        "id": "dS3bZPs-gIy3",
        "outputId": "e5e6e9c8-d998-4b4b-8aa5-330b980dd006"
      },
      "source": [
        "model <- keras_model_sequential() %>%\n",
        "  layer_embedding(max_features + 1, embedding_dim) %>%\n",
        "  layer_global_average_pooling_1d() %>%\n",
        "  layer_dense(units = 16, activation = \"relu\") %>%\n",
        "  layer_dense(units = 1)\n",
        "\n",
        "summary(model)"
      ],
      "execution_count": null,
      "outputs": [
        {
          "output_type": "stream",
          "name": "stdout",
          "text": [
            "Model: \"sequential\"\n",
            "________________________________________________________________________________\n",
            " Layer (type)                       Output Shape                    Param #     \n",
            "================================================================================\n",
            " embedding (Embedding)              (None, None, 16)                160016      \n",
            " global_average_pooling1d (GlobalAv  (None, 16)                     0           \n",
            " eragePooling1D)                                                                \n",
            " dense_1 (Dense)                    (None, 16)                      272         \n",
            " dense (Dense)                      (None, 1)                       17          \n",
            "================================================================================\n",
            "Total params: 160,305\n",
            "Trainable params: 160,305\n",
            "Non-trainable params: 0\n",
            "________________________________________________________________________________\n"
          ]
        }
      ]
    },
    {
      "cell_type": "code",
      "source": [
        "model %>% compile(\n",
        "  optimizer = 'adam',\n",
        "  loss = 'binary_crossentropy',\n",
        "  metrics = c('accuracy')\n",
        ")"
      ],
      "metadata": {
        "id": "IPGqn29j-EJN"
      },
      "execution_count": null,
      "outputs": []
    },
    {
      "cell_type": "code",
      "source": [
        "history <- model %>% fit(\n",
        "  train_ds,\n",
        "  epochs = 50,\n",
        "  validation_data = val_ds,\n",
        "  verbose = 1\n",
        ")"
      ],
      "metadata": {
        "id": "pOUlRapWDNCn"
      },
      "execution_count": null,
      "outputs": []
    },
    {
      "cell_type": "code",
      "source": [
        "plot(history)"
      ],
      "metadata": {
        "colab": {
          "base_uri": "https://localhost:8080/",
          "height": 437
        },
        "id": "OILCTSYmDz7z",
        "outputId": "1ee1bbde-2d43-4019-f2a2-a6a5515a4cc2"
      },
      "execution_count": null,
      "outputs": [
        {
          "output_type": "display_data",
          "data": {
            "text/plain": [
              "plot without title"
            ],
            "image/png": "[encoded data removed]"
          },
          "metadata": {
            "image/png": {
              "width": 420,
              "height": 420
            }
          }
        }
      ]
    },
    {
      "cell_type": "code",
      "source": [
        "results <- model %>% evaluate(test_ds, verbose = 2)"
      ],
      "metadata": {
        "id": "sIwYhpd7-JK1"
      },
      "execution_count": null,
      "outputs": []
    },
    {
      "cell_type": "code",
      "source": [
        "results"
      ],
      "metadata": {
        "colab": {
          "base_uri": "https://localhost:8080/",
          "height": 34
        },
        "id": "_sQuIeO5-NLI",
        "outputId": "dc8fd580-5723-4a54-d203-7aacea6398df"
      },
      "execution_count": null,
      "outputs": [
        {
          "output_type": "display_data",
          "data": {
            "text/html": [
              "<style>\n",
              ".dl-inline {width: auto; margin:0; padding: 0}\n",
              ".dl-inline>dt, .dl-inline>dd {float: none; width: auto; display: inline-block}\n",
              ".dl-inline>dt::after {content: \":\\0020\"; padding-right: .5ex}\n",
              ".dl-inline>dt:not(:first-of-type) {padding-left: .5ex}\n",
              "</style><dl class=dl-inline><dt>loss</dt><dd>2.15030431747437</dd><dt>accuracy</dt><dd>0.834919989109039</dd></dl>\n"
            ],
            "text/markdown": "loss\n:   2.15030431747437accuracy\n:   0.834919989109039\n\n",
            "text/latex": "\\begin{description*}\n\\item[loss] 2.15030431747437\n\\item[accuracy] 0.834919989109039\n\\end{description*}\n",
            "text/plain": [
              "    loss accuracy \n",
              "2.150304 0.834920 "
            ]
          },
          "metadata": {}
        }
      ]
    },
    {
      "cell_type": "markdown",
      "source": [
        "That looks overfit, and like we could probably cut things off much earlier. There's that weird jump around 20 epochs, so let's go after that to about 30. We're not doing as well, but one reason for that might be that we are clipping the reviews at 250 tokens with max_sequence_length above. In doing so, we are probably losing the reviews that end with their rating (and thus increase the accuracy of some of our more naive approaches). Take some time and play around as an exercise with the specifications to see where we might be able to improve."
      ],
      "metadata": {
        "id": "HBFREElOBEUf"
      }
    },
    {
      "cell_type": "markdown",
      "source": [
        "# Embeddings!\n",
        "\n",
        "Let's look at those embeddings."
      ],
      "metadata": {
        "id": "hpxeavRZB2tV"
      }
    },
    {
      "cell_type": "code",
      "source": [
        "embedding_matrix <- get_weights(model)[[1]]\n",
        "vocab <- get_vocabulary(vectorize_layer)"
      ],
      "metadata": {
        "id": "sVpjBXJKCPxv"
      },
      "execution_count": null,
      "outputs": []
    },
    {
      "cell_type": "code",
      "source": [
        "index_val <- 1000\n",
        "writeLines(paste(\"The word: \", vocab[index_val], sep = \"\"))\n",
        "cat(\"Its vector values:\", embedding_matrix[index_val,])"
      ],
      "metadata": {
        "colab": {
          "base_uri": "https://localhost:8080/"
        },
        "id": "7dBw12r-CVJQ",
        "outputId": "134718ca-6c2d-4813-c2d2-3176dfa6ed38"
      },
      "execution_count": null,
      "outputs": [
        {
          "output_type": "stream",
          "name": "stdout",
          "text": [
            "The word: front\n",
            "Its vector values: 0.07260886 0.05127152 0.02541481 0.09004423 -0.08205149 0.04564973 -0.01295586 0.01078093 -0.04226513 0.07979143 -0.03382564 -0.02636646 -0.0973067 0.03233436 -0.06513187 0.006945741"
          ]
        }
      ]
    },
    {
      "cell_type": "code",
      "source": [
        "row.names(embedding_matrix) <- c(\"UNK\", vocab)"
      ],
      "metadata": {
        "id": "0a7LoQdtFCi4"
      },
      "execution_count": null,
      "outputs": []
    },
    {
      "cell_type": "code",
      "source": [
        "install.packages(\"text2vec\")\n",
        "library(text2vec)"
      ],
      "metadata": {
        "colab": {
          "base_uri": "https://localhost:8080/"
        },
        "id": "Z_AAebsrFSZO",
        "outputId": "aabdda71-4c87-41e9-88c6-3afdda6df975"
      },
      "execution_count": null,
      "outputs": [
        {
          "output_type": "stream",
          "name": "stderr",
          "text": [
            "Installing package into ‘/usr/local/lib/R/site-library’\n",
            "(as ‘lib’ is unspecified)\n",
            "\n",
            "also installing the dependencies ‘MatrixExtra’, ‘float’, ‘RhpcBLASctl’, ‘RcppArmadillo’, ‘rsparse’, ‘mlapi’, ‘lgr’\n",
            "\n",
            "\n",
            "\n",
            "Attaching package: ‘text2vec’\n",
            "\n",
            "\n",
            "The following object is masked from ‘package:tfdatasets’:\n",
            "\n",
            "    fit\n",
            "\n",
            "\n",
            "The following objects are masked from ‘package:keras’:\n",
            "\n",
            "    fit, normalize\n",
            "\n",
            "\n"
          ]
        }
      ]
    },
    {
      "cell_type": "code",
      "source": [
        "# little function from Daniel Falbel\n",
        "find_similar_words <- function(word, embedding_matrix, n = 5) {\n",
        "  similarities <- embedding_matrix[word, , drop = FALSE] %>%\n",
        "    sim2(embedding_matrix, y = ., method = \"cosine\")\n",
        "  \n",
        "  similarities[,1] %>% sort(decreasing = TRUE) %>% head(n)\n",
        "}"
      ],
      "metadata": {
        "id": "kVj0Q_eCFfqK"
      },
      "execution_count": null,
      "outputs": []
    },
    {
      "cell_type": "code",
      "source": [
        "find_similar_words(\"king\", embedding_matrix)"
      ],
      "metadata": {
        "colab": {
          "base_uri": "https://localhost:8080/",
          "height": 52
        },
        "id": "ab9xrk2WFrTc",
        "outputId": "cd13b475-67bf-4516-815e-6df8a247979b"
      },
      "execution_count": null,
      "outputs": [
        {
          "output_type": "display_data",
          "data": {
            "text/html": [
              "<style>\n",
              ".dl-inline {width: auto; margin:0; padding: 0}\n",
              ".dl-inline>dt, .dl-inline>dd {float: none; width: auto; display: inline-block}\n",
              ".dl-inline>dt::after {content: \":\\0020\"; padding-right: .5ex}\n",
              ".dl-inline>dt:not(:first-of-type) {padding-left: .5ex}\n",
              "</style><dl class=dl-inline><dt>king</dt><dd>1</dd><dt>simply</dt><dd>0.994039168191149</dd><dt>charles</dt><dd>0.993659245246635</dd><dt>stiller</dt><dd>0.993352780263952</dd><dt>vicious</dt><dd>0.992122117216695</dd></dl>\n"
            ],
            "text/markdown": "king\n:   1simply\n:   0.994039168191149charles\n:   0.993659245246635stiller\n:   0.993352780263952vicious\n:   0.992122117216695\n\n",
            "text/latex": "\\begin{description*}\n\\item[king] 1\n\\item[simply] 0.994039168191149\n\\item[charles] 0.993659245246635\n\\item[stiller] 0.993352780263952\n\\item[vicious] 0.992122117216695\n\\end{description*}\n",
            "text/plain": [
              "     king    simply   charles   stiller   vicious \n",
              "1.0000000 0.9940392 0.9936592 0.9933528 0.9921221 "
            ]
          },
          "metadata": {}
        }
      ]
    },
    {
      "cell_type": "code",
      "source": [
        "find_similar_words(\"queen\", embedding_matrix)"
      ],
      "metadata": {
        "id": "ZHv0c7_RHMa-",
        "outputId": "333437dc-0e41-44f2-9d0c-3a94ebc57f0c",
        "colab": {
          "base_uri": "https://localhost:8080/",
          "height": 52
        }
      },
      "execution_count": null,
      "outputs": [
        {
          "output_type": "display_data",
          "data": {
            "text/html": [
              "<style>\n",
              ".dl-inline {width: auto; margin:0; padding: 0}\n",
              ".dl-inline>dt, .dl-inline>dd {float: none; width: auto; display: inline-block}\n",
              ".dl-inline>dt::after {content: \":\\0020\"; padding-right: .5ex}\n",
              ".dl-inline>dt:not(:first-of-type) {padding-left: .5ex}\n",
              "</style><dl class=dl-inline><dt>queen</dt><dd>1</dd><dt>captures</dt><dd>0.931314986554263</dd><dt>account</dt><dd>0.926083739154143</dd><dt>lifebr</dt><dd>0.925906653707195</dd><dt>everyones</dt><dd>0.925306483376587</dd></dl>\n"
            ],
            "text/markdown": "queen\n:   1captures\n:   0.931314986554263account\n:   0.926083739154143lifebr\n:   0.925906653707195everyones\n:   0.925306483376587\n\n",
            "text/latex": "\\begin{description*}\n\\item[queen] 1\n\\item[captures] 0.931314986554263\n\\item[account] 0.926083739154143\n\\item[lifebr] 0.925906653707195\n\\item[everyones] 0.925306483376587\n\\end{description*}\n",
            "text/plain": [
              "    queen  captures   account    lifebr everyones \n",
              "1.0000000 0.9313150 0.9260837 0.9259067 0.9253065 "
            ]
          },
          "metadata": {}
        }
      ]
    }
  ]
}